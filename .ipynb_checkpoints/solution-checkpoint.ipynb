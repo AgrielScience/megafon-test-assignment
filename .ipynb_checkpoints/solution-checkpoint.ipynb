{
 "cells": [
  {
   "cell_type": "code",
   "execution_count": 76,
   "metadata": {},
   "outputs": [],
   "source": [
    "import warnings\n",
    "warnings.filterwarnings(\"ignore\")\n",
    "\n",
    "import lightgbm as lgb\n",
    "import matplotlib.pyplot as plt\n",
    "import numpy as np\n",
    "import pandas as pd\n",
    "import seaborn as sns\n",
    "\n",
    "from mlxtend.evaluate import lift_score\n",
    "from sklearn.model_selection import train_test_split\n",
    "from sklearn.metrics import confusion_matrix, f1_score, mean_absolute_error, make_scorer"
   ]
  },
  {
   "cell_type": "code",
   "execution_count": 7,
   "metadata": {},
   "outputs": [
    {
     "name": "stdout",
     "output_type": "stream",
     "text": [
      "Shape of train data is  (24521, 262)\n",
      "Shape of test data is  (9484, 261)\n"
     ]
    }
   ],
   "source": [
    "train_raw = pd.read_csv('data/contest_train.csv')\n",
    "test_raw = pd.read_csv('data/contest_test.csv')\n",
    "\n",
    "print('Shape of train data is ',train.shape)\n",
    "print('Shape of test data is ',test.shape)"
   ]
  },
  {
   "cell_type": "code",
   "execution_count": 111,
   "metadata": {},
   "outputs": [
    {
     "name": "stdout",
     "output_type": "stream",
     "text": [
      "Unique classes:\n",
      "class_1\n",
      "class_0\n",
      "class_2\n"
     ]
    }
   ],
   "source": [
    "n_classes = train_raw.TARGET.unique()\n",
    "print (f\"Unique classes:\")\n",
    "for label in range(len(n_classes)):\n",
    "    print(f\"class_{n_classes[label]}\")"
   ]
  },
  {
   "cell_type": "code",
   "execution_count": 109,
   "metadata": {},
   "outputs": [],
   "source": [
    "samples_by_class = pd.DataFrame(train_raw.groupby(\"TARGET\", as_index = False)[\"ID\"].count()).sort_values(by=\"ID\",ascending=False).rename(columns = {\"ID\": \"cnt\"})\n",
    "samples_by_class['class']=list(map(lambda x: \"class_{}\".format(x), samples_by_class.TARGET))"
   ]
  },
  {
   "cell_type": "code",
   "execution_count": 110,
   "metadata": {},
   "outputs": [
    {
     "data": {
      "text/html": [
       "<div>\n",
       "<style scoped>\n",
       "    .dataframe tbody tr th:only-of-type {\n",
       "        vertical-align: middle;\n",
       "    }\n",
       "\n",
       "    .dataframe tbody tr th {\n",
       "        vertical-align: top;\n",
       "    }\n",
       "\n",
       "    .dataframe thead th {\n",
       "        text-align: right;\n",
       "    }\n",
       "</style>\n",
       "<table border=\"1\" class=\"dataframe\">\n",
       "  <thead>\n",
       "    <tr style=\"text-align: right;\">\n",
       "      <th></th>\n",
       "      <th>TARGET</th>\n",
       "      <th>cnt</th>\n",
       "      <th>class</th>\n",
       "    </tr>\n",
       "  </thead>\n",
       "  <tbody>\n",
       "    <tr>\n",
       "      <th>0</th>\n",
       "      <td>0</td>\n",
       "      <td>17372</td>\n",
       "      <td>class_0</td>\n",
       "    </tr>\n",
       "    <tr>\n",
       "      <th>1</th>\n",
       "      <td>1</td>\n",
       "      <td>5650</td>\n",
       "      <td>class_1</td>\n",
       "    </tr>\n",
       "    <tr>\n",
       "      <th>2</th>\n",
       "      <td>2</td>\n",
       "      <td>1499</td>\n",
       "      <td>class_2</td>\n",
       "    </tr>\n",
       "  </tbody>\n",
       "</table>\n",
       "</div>"
      ],
      "text/plain": [
       "   TARGET    cnt    class\n",
       "0       0  17372  class_0\n",
       "1       1   5650  class_1\n",
       "2       2   1499  class_2"
      ]
     },
     "execution_count": 110,
     "metadata": {},
     "output_type": "execute_result"
    }
   ],
   "source": [
    "samples_by_class"
   ]
  },
  {
   "cell_type": "code",
   "execution_count": 27,
   "metadata": {},
   "outputs": [
    {
     "name": "stdout",
     "output_type": "stream",
     "text": [
      "53 columns in train has NaN\n",
      "56 columns in test has NaN\n"
     ]
    }
   ],
   "source": [
    "print(f'{train.isnull().any().sum()} columns in train has NaN')\n",
    "print(f'{test.isnull().any().sum()} columns in test has NaN')"
   ]
  },
  {
   "cell_type": "code",
   "execution_count": 62,
   "metadata": {},
   "outputs": [],
   "source": [
    "def f1_score_calc(y_true, y_pred):\n",
    "    return f1_score(y_true, y_pred, average=\"macro\")\n",
    "\n",
    "def lift_score_calc(df, class_, pos_label):\n",
    "    df = df[df['y_true'].isin(class_)]\n",
    "    return lift_score(df.y_true, df.pred,  binary=True, positive_label=pos_label)\n",
    "\n",
    "def f1_for_lgb(y_hat, lgb_train):\n",
    "    labels = lgb_train.get_label()\n",
    "    y_hat = y_hat.reshape(-1, len(np.unique(labels))).argmax(axis = 1)\n",
    "    return ('Metric', f1_score(labels, y_hat, average=\"macro\"), True)"
   ]
  },
  {
   "cell_type": "code",
   "execution_count": 31,
   "metadata": {},
   "outputs": [],
   "source": [
    "train_data = train_raw.copy()\n",
    "test_data = test_raw.copy()"
   ]
  },
  {
   "cell_type": "code",
   "execution_count": 44,
   "metadata": {},
   "outputs": [],
   "source": [
    "cols = [col for col in train_data.columns if (col != 'ID') & (col != 'TARGET')]"
   ]
  },
  {
   "cell_type": "code",
   "execution_count": 96,
   "metadata": {},
   "outputs": [],
   "source": [
    "X = train_data[cols].copy()\n",
    "Y = train_data.TARGET.copy()\n",
    "X_test = test_data.copy().drop(['ID'], axis=1)\n",
    "\n",
    "X_, X_valid, Y_, Y_valid = train_test_split(X, Y, test_size=0.33, random_state=42, stratify=Y)\n",
    "\n",
    "\n",
    "params = {\n",
    "    'objective' :'multiclass',\n",
    "    'learning_rate' : 0.02,\n",
    "    'num_leaves' : 76,\n",
    "    'feature_fraction': 0.64, \n",
    "    'bagging_fraction': 0.8, \n",
    "    'bagging_freq':1,\n",
    "    'boosting_type' : 'gbdt',\n",
    "    'num_class' : 3,\n",
    "    'n_jobs':-1,\n",
    "    'seed': 20\n",
    "}\n",
    "\n",
    "results = {}\n",
    "valid_results = []"
   ]
  },
  {
   "cell_type": "code",
   "execution_count": 97,
   "metadata": {},
   "outputs": [
    {
     "name": "stdout",
     "output_type": "stream",
     "text": [
      "Training until validation scores don't improve for 1000 rounds\n",
      "[1000]\tvalid_0's multi_logloss: 0.695315\tvalid_0's Metric: 0.27386\n",
      "Early stopping, best iteration is:\n",
      "[292]\tvalid_0's multi_logloss: 0.641094\tvalid_0's Metric: 0.276993\n"
     ]
    }
   ],
   "source": [
    "dtrain = lgb.Dataset(X_, Y_)\n",
    "dvalid = lgb.Dataset(X_valid, Y_valid)\n",
    "clf = lgb.train(params, dtrain, 5000,  dvalid, verbose_eval=1000, early_stopping_rounds=15, feval=f1_for_lgb)"
   ]
  },
  {
   "cell_type": "code",
   "execution_count": 102,
   "metadata": {},
   "outputs": [
    {
     "name": "stdout",
     "output_type": "stream",
     "text": [
      "lift score for 1 2 class: 3.3797.\n",
      "lift score for 1 0 class: 1.0240.\n",
      "lift score for 0 2 class: 9.8251.\n",
      "FINAL score: 0.4576.\n"
     ]
    }
   ],
   "source": [
    "predictions_valid = clf.predict(X_valid, num_iteration=clf.best_iteration)\n",
    "predictions_valid = np.array(predictions_valid.reshape(-1, 3).argmax(axis = 1), np.int)\n",
    "\n",
    "predictions_test = clf.predict(X_test, num_iteration=clf.best_iteration)\n",
    "predictions_test = predictions_test.reshape(-1, 3)\n",
    "\n",
    "valid_results.append(f1_score_calc(Y_valid, predictions_valid))\n",
    "\n",
    "lift_score_results = pd.DataFrame()\n",
    "lift_score_results['y_true'] = Y_valid\n",
    "lift_score_results['pred'] = predictions_valid\n",
    "print('lift score for 1 2 class: {0:.4f}.'.format(lift_score_calc(lift_score_results, [1, 2], 2)))\n",
    "print('lift score for 1 0 class: {0:.4f}.'.format(lift_score_calc(lift_score_results, [1, 0], 0)))\n",
    "print('lift score for 0 2 class: {0:.4f}.'.format(lift_score_calc(lift_score_results, [2, 0], 2)))\n",
    "print('FINAL score: {0:.4f}.'.format(np.mean(valid_results)))\n",
    "\n",
    "results['prediction'] = predictions_test \n",
    "results['scores'] = valid_results\n",
    "results['model'] = clf"
   ]
  },
  {
   "cell_type": "markdown",
   "metadata": {},
   "source": [
    "### Feature importance"
   ]
  },
  {
   "cell_type": "code",
   "execution_count": 118,
   "metadata": {},
   "outputs": [
    {
     "data": {
      "image/png": "[encoded data removed]",
      "text/plain": [
       "<Figure size 576x576 with 1 Axes>"
      ]
     },
     "metadata": {
      "needs_background": "light"
     },
     "output_type": "display_data"
    }
   ],
   "source": [
    "f_imp = pd.DataFrame()\n",
    "f_imp['importance'] = clf.feature_importance(importance_type='gain')\n",
    "f_imp['feature'] = clf.feature_name()\n",
    "\n",
    "top_features = f_imp.sort_values(by='importance', ascending=False)[:10]\n",
    "\n",
    "plt.figure(figsize=(8, 8));\n",
    "sns.barplot(x=\"importance\", y=\"feature\", data=top_features);\n",
    "plt.title('Feature Importance (GAIN)');"
   ]
  },
  {
   "cell_type": "code",
   "execution_count": 121,
   "metadata": {},
   "outputs": [],
   "source": [
    "submission = test_data.loc[:,['ID']]\n",
    "submission['TARGET'] =  np.array(predictions_test.argmax(axis = 1), np.int) \n",
    "submission.to_csv('contest_answer.csv', index=False)"
   ]
  },
  {
   "cell_type": "code",
   "execution_count": 123,
   "metadata": {},
   "outputs": [],
   "source": [
    "submission = test_data.loc[:,['ID']]\n",
    "submission['TARGET'] =  np.array(predictions_test.argmax(axis = 1), np.int) \n",
    "submission['proba'] = np.max(predictions_test, axis=1)\n",
    "first_class = submission[submission['TARGET'] == 1]\n",
    "second_class = submission[submission['TARGET'] == 2]"
   ]
  },
  {
   "cell_type": "code",
   "execution_count": 124,
   "metadata": {},
   "outputs": [],
   "source": [
    "second_class.sort_values(by='proba', ascending=False, inplace=True)\n",
    "second_class = second_class.iloc[0:200, :]\n",
    "second_class.drop(['proba'], axis=1, inplace=True)\n",
    "first_class.drop(['proba'], axis=1, inplace=True)\n",
    "two_class = pd.concat([first_class, second_class], ignore_index=True, sort =False)"
   ]
  },
  {
   "cell_type": "code",
   "execution_count": 125,
   "metadata": {},
   "outputs": [],
   "source": [
    "two_class.to_csv('contest_segments.csv', index=False)"
   ]
  }
 ],
 "metadata": {
  "file_extension": ".py",
  "kernelspec": {
   "display_name": "Python 3",
   "language": "python",
   "name": "python3"
  },
  "language_info": {
   "codemirror_mode": {
    "name": "ipython",
    "version": 3
   },
   "file_extension": ".py",
   "mimetype": "text/x-python",
   "name": "python",
   "nbconvert_exporter": "python",
   "pygments_lexer": "ipython3",
   "version": "3.7.6"
  },
  "mimetype": "text/x-python",
  "name": "python",
  "npconvert_exporter": "python",
  "pygments_lexer": "ipython3",
  "version": 3
 },
 "nbformat": 4,
 "nbformat_minor": 4
}
